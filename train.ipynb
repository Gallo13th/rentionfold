{
 "cells": [
  {
   "cell_type": "code",
   "execution_count": 1,
   "metadata": {},
   "outputs": [
    {
     "name": "stderr",
     "output_type": "stream",
     "text": [
      "f:\\Projects\\envs\\venv4gradpro\\lib\\site-packages\\tqdm\\auto.py:22: TqdmWarning: IProgress not found. Please update jupyter and ipywidgets. See https://ipywidgets.readthedocs.io/en/stable/user_install.html\n",
      "  from .autonotebook import tqdm as notebook_tqdm\n"
     ]
    }
   ],
   "source": [
    "import torch\n",
    "import torch.nn as nn\n",
    "import torch.optim as optim\n",
    "import torch.nn.functional as F\n",
    "from network import *"
   ]
  },
  {
   "cell_type": "code",
   "execution_count": 2,
   "metadata": {},
   "outputs": [],
   "source": [
    "class Mydataset(torch.utils.data.Dataset):\n",
    "\n",
    "    def __init__(self, x_seq,x_mask_seq,alpha,beta,gamma,delta,epsilon,zeta,eta,theta,dist_N,dist_P,dist_C4,Omega,Lambda,info):\n",
    "        # 1. Initialize file path or list of file names.\n",
    "        self.x_seq = x_seq\n",
    "        self.x_mask_seq = x_mask_seq\n",
    "        self.alpha = alpha\n",
    "        self.beta = beta\n",
    "        self.gamma = gamma\n",
    "        self.delta = delta\n",
    "        self.epsilon = epsilon\n",
    "        self.zeta = zeta\n",
    "        self.eta = eta\n",
    "        self.theta = theta\n",
    "        self.dist_N = dist_N\n",
    "        self.dist_P = dist_P\n",
    "        self.dist_C4 = dist_C4\n",
    "        self.Omega = Omega\n",
    "        self.Lambda = Lambda \n",
    "        self.info = info\n",
    "\n",
    "    def __getitem__(self, index):\n",
    "        # 1. Read one data from file (e.g. using numpy.fromfile, PIL.Image.open).\n",
    "        # 2. Preprocess the data (e.g. torchvision.Transform).\n",
    "        # 3. Return a data pair (e.g. image and label).\n",
    "        #这里需要注意的是，第一步：read one data，是一个data\n",
    "        return self.x_seq[index],self.x_mask_seq[index],self.alpha[index],self.beta[index],self.gamma[index],self.delta[index],self.epsilon[index],self.zeta[index],self.eta[index],self.theta[index],self.dist_N[index],self.dist_P[index],self.dist_C4[index],self.Omega[index],self.Lambda[index],self.info[index]\n",
    "\n",
    "    def __len__(self):\n",
    "        # You should change 0 to the total size of your dataset.\n",
    "        return len(self.x_seq)\n",
    "\n",
    "trainset = torch.load('./dataset/NoRepeatSet_60_80.pth')\n",
    "train_loader = torch.utils.data.DataLoader(\n",
    "    trainset,\n",
    "    batch_size=16,\n",
    "    shuffle=False,\n",
    "    num_workers=0,\n",
    "    pin_memory=True,\n",
    ")"
   ]
  },
  {
   "cell_type": "code",
   "execution_count": 3,
   "metadata": {},
   "outputs": [],
   "source": [
    "train_loader = iter(train_loader)"
   ]
  },
  {
   "cell_type": "code",
   "execution_count": 4,
   "metadata": {},
   "outputs": [],
   "source": [
    "seq_dim = 6\n",
    "pair_dim = 16\n",
    "hidden_dim = 16\n",
    "num_heads = 4\n",
    "num_layers = 4\n",
    "device = torch.device(\"cuda:0\" if torch.cuda.is_available() else \"cpu\")\n",
    "\n",
    "model = RetentionFold(seq_dim,pair_dim,hidden_dim,num_heads,num_layers,device)"
   ]
  },
  {
   "cell_type": "code",
   "execution_count": 8,
   "metadata": {},
   "outputs": [
    {
     "name": "stdout",
     "output_type": "stream",
     "text": [
      "torch.Size([16, 80, 16])\n",
      "torch.Size([16, 80])\n",
      "torch.Size([16, 80, 80])\n"
     ]
    }
   ],
   "source": [
    "for x_seq,x_mask_seq,alpha,beta,gamma,delta,epsilon,zeta,eta,theta,dist_N,dist_P,dist_C4,Omega,Lambda,info in train_loader:\n",
    "    x_seq = x_seq.to(device)\n",
    "    x_mask_seq = x_mask_seq.to(device)\n",
    "    alpha = alpha.to(device)\n",
    "    beta = beta.to(device)\n",
    "    gamma = gamma.to(device)\n",
    "    delta = delta.to(device)\n",
    "    epsilon = epsilon.to(device)\n",
    "    zeta = zeta.to(device)\n",
    "    eta = eta.to(device)\n",
    "    theta = theta.to(device)\n",
    "    dist_N = dist_N.to(device)\n",
    "    dist_P = dist_P.to(device)\n",
    "    dist_C4 = dist_C4.to(device)\n",
    "    Omega = Omega.to(device)\n",
    "    Lambda = Lambda.to(device)\n",
    "    pred_seq,pred_pair = model(x_seq)\n",
    "    print(pred_seq.shape)\n",
    "    print(gamma.shape)\n",
    "    print(dist_N.shape)\n",
    "    break"
   ]
  }
 ],
 "metadata": {
  "kernelspec": {
   "display_name": "venv4gradpro",
   "language": "python",
   "name": "python3"
  },
  "language_info": {
   "codemirror_mode": {
    "name": "ipython",
    "version": 3
   },
   "file_extension": ".py",
   "mimetype": "text/x-python",
   "name": "python",
   "nbconvert_exporter": "python",
   "pygments_lexer": "ipython3",
   "version": "3.9.13"
  },
  "orig_nbformat": 4
 },
 "nbformat": 4,
 "nbformat_minor": 2
}
